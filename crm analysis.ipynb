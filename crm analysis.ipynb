{
 "cells": [
  {
   "cell_type": "code",
   "execution_count": 1,
   "id": "eb0ffee2",
   "metadata": {},
   "outputs": [],
   "source": [
    "import pandas as pd\n",
    "import sqlite3\n",
    "import os"
   ]
  },
  {
   "cell_type": "code",
   "execution_count": 2,
   "id": "471c4335",
   "metadata": {},
   "outputs": [],
   "source": [
    "db_path = \"my_database.db\"  # SQLite database file\n",
    "conn = sqlite3.connect(db_path)\n"
   ]
  },
  {
   "cell_type": "code",
   "execution_count": 3,
   "id": "e30272a4",
   "metadata": {},
   "outputs": [],
   "source": [
    "from sqlalchemy import create_engine\n",
    "\n",
    "engine = create_engine(f\"sqlite:///{db_path}\")"
   ]
  },
  {
   "cell_type": "markdown",
   "id": "24d6a805",
   "metadata": {},
   "source": [
    "#### Quarter over quarter trend"
   ]
  },
  {
   "cell_type": "code",
   "execution_count": 4,
   "id": "ac0701e2",
   "metadata": {},
   "outputs": [
    {
     "name": "stdout",
     "output_type": "stream",
     "text": [
      "   year  quarter  total_closed_value  revenue_pct\n",
      "0  2017        1           1134672.0          NaN\n",
      "1  2017        2           3086111.0       171.98\n",
      "2  2017        3           2982255.0        -3.37\n",
      "3  2017        4           2802496.0        -6.03\n"
     ]
    }
   ],
   "source": [
    "query = \"\"\"\n",
    "with QoQ as (SELECT strftime('%Y', close_date) AS year,\n",
    "    (cast(strftime('%m', close_date) as int)-1)/3 + 1 AS quarter,\n",
    "sum(case when a.deal_stage='Won' then a.close_value else 0 end) as total_closed_value,\n",
    "count(case when deal_stage='Won' then 1 end) as Number_of_Deals_Won, count(*) total_deals,\n",
    "round(count(case when deal_stage='Won' then 1 end)*100.0/count(*),2) as win_rate,\n",
    "sum(case when a.deal_stage='Won' then a.close_value else 0 end)/count(case when deal_stage='Won' then 1 end) as avg_deal_size\n",
    "FROM sales_pipelines a join sales_teams b\n",
    "on a.sales_agent=b.sales_agent\n",
    "where quarter is not null\n",
    "group by quarter)\n",
    " SELECT year, quarter,\n",
    " total_closed_value,\n",
    "ROUND(100.0 * (total_closed_value - LAG(total_closed_value) OVER (ORDER BY year, quarter))\n",
    "/ NULLIF(LAG(total_closed_value) OVER (ORDER BY year, quarter), 0), 2) AS revenue_pct\n",
    "from QoQ\n",
    "\n",
    "\"\"\"\n",
    "quarter_sales = pd.read_sql(query, conn)\n",
    "print(quarter_sales)"
   ]
  },
  {
   "cell_type": "markdown",
   "id": "0883f36e",
   "metadata": {},
   "source": [
    "#### Revenue in 2017 grew aggressively in Q2 (+172%), but the following two quarters showed negative growth (-3.37% in Q3 and -6.03% in Q4), suggesting that the Q2 boost was exceptional and not sustained. This indicates strong short-term gains but highlights a need for consistent pipeline management to avoid sharp slowdowns."
   ]
  },
  {
   "cell_type": "markdown",
   "id": "026f31e0",
   "metadata": {},
   "source": [
    "#### performance of the sales_agent "
   ]
  },
  {
   "cell_type": "code",
   "execution_count": 5,
   "id": "04b7ecf3",
   "metadata": {},
   "outputs": [
    {
     "name": "stdout",
     "output_type": "stream",
     "text": [
      "           sales_agent regional_office  total_closed_value  \\\n",
      "0      Darcel Schlecht         Central           1153214.0   \n",
      "1       Vicki Laflamme            West            478396.0   \n",
      "2      Kary Hendrixson            West            454298.0   \n",
      "3         Cassey Cress            East            450489.0   \n",
      "4        Donn Cantrell            East            445860.0   \n",
      "5         Reed Clapper            East            438336.0   \n",
      "6            Zane Levy            West            430068.0   \n",
      "7        Corliss Cosme            East            421036.0   \n",
      "8       James Ascencio            West            413533.0   \n",
      "9      Daniell Hammack            East            364229.0   \n",
      "10     Maureen Marcano            West            350395.0   \n",
      "11    Gladys Colclough         Central            345674.0   \n",
      "12      Markita Hansen            West            328792.0   \n",
      "13       Kami Bicknell            West            316456.0   \n",
      "14   Marty Freudenburg         Central            291195.0   \n",
      "15        Elease Gluck            West            289195.0   \n",
      "16  Jonathan Berthelot         Central            284886.0   \n",
      "17       Anna Snelling         Central            275056.0   \n",
      "18       Hayden Neloms            West            272111.0   \n",
      "19           Boris Faz            East            261631.0   \n",
      "20     Rosalina Dieter            West            235403.0   \n",
      "21  Rosie Papadopoulos            East            230169.0   \n",
      "22      Cecily Lampkin         Central            229800.0   \n",
      "23         Moses Frase         Central            207182.0   \n",
      "24       Garret Kinder            East            197773.0   \n",
      "25     Lajuana Vencill         Central            194632.0   \n",
      "26   Versie Hillebrand         Central            187693.0   \n",
      "27     Niesha Huffines         Central            176961.0   \n",
      "28      Wilburn Farren            East            157640.0   \n",
      "29    Violet Mclelland            East            123431.0   \n",
      "\n",
      "    Number_of_Deals_Won  total_deals  win_rate  avg_deal_size  revenue_rank  \\\n",
      "0                   349          747     46.72        3304.34             1   \n",
      "1                   221          451     49.00        2164.69             2   \n",
      "2                   209          438     47.72        2173.67             3   \n",
      "3                   163          346     47.11        2763.74             4   \n",
      "4                   158          275     57.45        2821.90             5   \n",
      "5                   155          237     65.40        2827.97             6   \n",
      "6                   161          349     46.13        2671.23             7   \n",
      "7                   150          310     48.39        2806.91             8   \n",
      "8                   135          267     50.56        3063.21             9   \n",
      "9                   114          259     44.02        3194.99            10   \n",
      "10                  149          285     52.28        2351.64            11   \n",
      "11                  135          317     42.59        2560.55            12   \n",
      "12                  130          306     42.48        2529.17            13   \n",
      "13                  174          362     48.07        1818.71            14   \n",
      "14                  122          281     43.42        2386.84            15   \n",
      "15                   80          177     45.20        3614.94            16   \n",
      "16                  171          345     49.57        1666.00            17   \n",
      "17                  208          448     46.43        1322.38            18   \n",
      "18                  107          202     52.97        2543.09            19   \n",
      "19                  101          210     48.10        2590.41            20   \n",
      "20                   72          160     45.00        3269.49            21   \n",
      "21                   78          160     48.75        2950.88            22   \n",
      "22                  107          203     52.71        2147.66            23   \n",
      "23                  129          260     49.62        1606.06            24   \n",
      "24                   75          123     60.98        2636.97            25   \n",
      "25                  127          311     40.84        1532.54            26   \n",
      "26                  176          361     48.75        1066.44            27   \n",
      "27                  105          239     43.93        1685.34            28   \n",
      "28                   55          110     50.00        2866.18            29   \n",
      "29                  122          261     46.74        1011.73            30   \n",
      "\n",
      "    deals_won_rank  win_rate_rank  avg_deal_size_rank  \n",
      "0                1             20                   2  \n",
      "1                2             11                  21  \n",
      "2                3             17                  20  \n",
      "3                8             18                  11  \n",
      "4               10              3                   9  \n",
      "5               11              1                   8  \n",
      "6                9             22                  12  \n",
      "7               12             14                  10  \n",
      "8               14              7                   5  \n",
      "9               21             25                   4  \n",
      "10              13              6                  19  \n",
      "11              14             28                  15  \n",
      "12              16             29                  17  \n",
      "13               6             16                  23  \n",
      "14              19             27                  18  \n",
      "15              26             23                   1  \n",
      "16               7             10                  25  \n",
      "17               4             21                  28  \n",
      "18              22              4                  16  \n",
      "19              25             15                  14  \n",
      "20              29             24                   3  \n",
      "21              27             12                   6  \n",
      "22              22              5                  22  \n",
      "23              17              9                  26  \n",
      "24              28              2                  13  \n",
      "25              18             30                  27  \n",
      "26               5             12                  29  \n",
      "27              24             26                  24  \n",
      "28              30              8                   7  \n",
      "29              19             19                  30  \n"
     ]
    }
   ],
   "source": [
    "query = \"\"\"\n",
    "with TEAM as (SELECT a.sales_agent,regional_office,\n",
    "sum(case when a.deal_stage='Won' then a.close_value else 0 end) as total_closed_value,\n",
    "count(case when deal_stage='Won' then 1 end) as Number_of_Deals_Won, count(*) total_deals,\n",
    "round(count(case when deal_stage='Won' then 1 end)*100.0/count(*),2) as win_rate,\n",
    "round(sum(case when a.deal_stage='Won' then a.close_value else 0 end)/count(case when deal_stage='Won' then 1 end),2) as avg_deal_size\n",
    "FROM sales_pipelines a join sales_teams b\n",
    "on a.sales_agent=b.sales_agent\n",
    "group by a.sales_agent)\n",
    "SELECT *,\n",
    "    RANK() OVER (ORDER BY total_closed_value DESC) AS revenue_rank,\n",
    "    RANK() OVER (ORDER BY Number_of_Deals_Won DESC) AS deals_won_rank,\n",
    "    RANK() OVER (ORDER BY win_rate DESC) AS win_rate_rank,\n",
    "    RANK() OVER (ORDER BY avg_deal_size DESC) AS avg_deal_size_rank\n",
    "FROM TEAM\n",
    "ORDER BY revenue_rank;\n",
    "\"\"\"\n",
    "sales_by_sales_agent = pd.read_sql(query, conn)\n",
    "print(sales_by_sales_agent)"
   ]
  },
  {
   "cell_type": "markdown",
   "id": "5a43eb5f",
   "metadata": {},
   "source": [
    "#### Sales agent performance analysis shows that Darcel Schlecht drives the highest revenue through sheer volume of deals, while Reed Clapper stands out with the best efficiency (65% win rate). Elease Gluck specializes in high-value deals, though with lower volume. In contrast, Versie Hillebrand and Violet Mclelland underperform, winning deals but with low overall revenue contribution due to small deal sizes. This highlights the need to scale efficient closers, leverage high-value specialists and Balancing teams:Pair volume closers (Darcel) with efficiency closers (Reed) in mentoring/shadowing setups."
   ]
  },
  {
   "cell_type": "markdown",
   "id": "967595ff",
   "metadata": {},
   "source": [
    "#### performance of sales_team"
   ]
  },
  {
   "cell_type": "code",
   "execution_count": 38,
   "id": "6c987fa3",
   "metadata": {},
   "outputs": [
    {
     "name": "stdout",
     "output_type": "stream",
     "text": [
      "            manager regional_office  total_closed_value  Number_of_Deals_Won  \\\n",
      "0     Melvin Marxen         Central           2251930.0                  882   \n",
      "1     Summer Sewald            West           1964750.0                  828   \n",
      "2     Rocco Neubert            East           1960545.0                  691   \n",
      "3      Celia Rouche            West           1603897.0                  610   \n",
      "4        Cara Losch            East           1130049.0                  480   \n",
      "5  Dustin Brinkmann         Central           1094363.0                  747   \n",
      "\n",
      "   total_deals  win_rate  avg_deal_size  revenue_rank  deals_won_rank  \\\n",
      "0         1929     45.72        2553.21             1               1   \n",
      "1         1701     48.68        2372.89             2               2   \n",
      "2         1327     52.07        2837.26             3               4   \n",
      "3         1296     47.07        2629.34             4               5   \n",
      "4          964     49.79        2354.27             5               6   \n",
      "5         1583     47.19        1465.01             6               3   \n",
      "\n",
      "   win_rate_rank  avg_deal_size_rank  \n",
      "0              6                   3  \n",
      "1              3                   4  \n",
      "2              1                   1  \n",
      "3              5                   2  \n",
      "4              2                   5  \n",
      "5              4                   6  \n"
     ]
    }
   ],
   "source": [
    "query = \"\"\"\n",
    "with TEAM as (SELECT manager,regional_office,\n",
    "sum(case when a.deal_stage='Won' then a.close_value else 0 end) as total_closed_value,\n",
    "count(case when deal_stage='Won' then 1 end) as Number_of_Deals_Won, count(*) total_deals,\n",
    "round(count(case when deal_stage='Won' then 1 end)*100.0/count(*),2) as win_rate,\n",
    "round(sum(case when a.deal_stage='Won' then a.close_value else 0 end)/count(case when deal_stage='Won' then 1 end),2) as avg_deal_size\n",
    "FROM sales_pipelines a join sales_teams b\n",
    "on a.sales_agent=b.sales_agent\n",
    "group by b.manager)\n",
    "SELECT *,\n",
    "    RANK() OVER (ORDER BY total_closed_value DESC) AS revenue_rank,\n",
    "    RANK() OVER (ORDER BY Number_of_Deals_Won DESC) AS deals_won_rank,\n",
    "    RANK() OVER (ORDER BY win_rate DESC) AS win_rate_rank,\n",
    "    RANK() OVER (ORDER BY avg_deal_size DESC) AS avg_deal_size_rank\n",
    "FROM TEAM\n",
    "ORDER BY revenue_rank;\n",
    "\"\"\"\n",
    "sales_by_team = pd.read_sql(query, conn)\n",
    "print(sales_by_team)"
   ]
  },
  {
   "cell_type": "markdown",
   "id": "a49dbea4",
   "metadata": {},
   "source": [
    "#### Melvin Marxen is the top revenue contributor, but their low win rate . If they can improve closing effectiveness, they could not only dominate in revenue but also drive sustainable growth for the team.\n",
    "#### Rocco Neubert  performance highlights quality over quantity — making him the most reliable closer for high-value opportunities.\n",
    "#### Dustin Brinkmann performance suggests a focus on smaller deals with limited impact. By improving qualification and targeting larger opportunities, Dustin could enhance both efficiency and revenue contribution."
   ]
  },
  {
   "cell_type": "markdown",
   "id": "89dbe146",
   "metadata": {},
   "source": [
    "#### product with good win_rate"
   ]
  },
  {
   "cell_type": "code",
   "execution_count": 44,
   "id": "6e136ea4",
   "metadata": {},
   "outputs": [
    {
     "name": "stdout",
     "output_type": "stream",
     "text": [
      "          product  win_rate\n",
      "0    GTX Plus Pro     49.48\n",
      "1          GTXPro     49.26\n",
      "2       GTX Basic     49.04\n",
      "3      MG Special     48.03\n",
      "4  GTX Plus Basic     47.22\n",
      "5     MG Advanced     46.32\n",
      "6         GTK 500     37.50\n"
     ]
    }
   ],
   "source": [
    "query = \"\"\"\n",
    "SELECT a.product,\n",
    "round(count(case when deal_stage='Won' then 1 end)*100.0/count(*),2) as win_rate\n",
    "FROM sales_pipelines a join sales_teams b\n",
    "on a.sales_agent=b.sales_agent\n",
    "group by a.product\n",
    "order by win_rate desc\n",
    "\"\"\"\n",
    "sales_by_sales_agent = pd.read_sql(query, conn)\n",
    "print(sales_by_sales_agent)"
   ]
  },
  {
   "cell_type": "markdown",
   "id": "ab843634",
   "metadata": {},
   "source": [
    "#### Product analysis revealed that the GTX line (especially GTX Plus Pro, GTXPro, and GTX Basic) consistently achieved ~50% win rates, indicating strong customer acceptance. In contrast, MG Advanced and particularly GTK 500 underperformed, with GTK 500 showing the weakest win rate at 37.5%. This highlights a need for strategic review (pricing, customer feedback, competitor comparison) to understand why they underperform, while leveraging the GTX series as proven market leaders.”"
   ]
  }
 ],
 "metadata": {
  "kernelspec": {
   "display_name": "Python 3 (ipykernel)",
   "language": "python",
   "name": "python3"
  },
  "language_info": {
   "codemirror_mode": {
    "name": "ipython",
    "version": 3
   },
   "file_extension": ".py",
   "mimetype": "text/x-python",
   "name": "python",
   "nbconvert_exporter": "python",
   "pygments_lexer": "ipython3",
   "version": "3.9.12"
  }
 },
 "nbformat": 4,
 "nbformat_minor": 5
}
